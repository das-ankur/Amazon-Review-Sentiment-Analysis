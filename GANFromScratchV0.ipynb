{
  "nbformat": 4,
  "nbformat_minor": 0,
  "metadata": {
    "colab": {
      "provenance": [],
      "machine_shape": "hm",
      "gpuType": "L4",
      "authorship_tag": "ABX9TyPhIOMXscmZkxUXalQNQFJg",
      "include_colab_link": true
    },
    "kernelspec": {
      "name": "python3",
      "display_name": "Python 3"
    },
    "language_info": {
      "name": "python"
    },
    "accelerator": "GPU"
  },
  "cells": [
    {
      "cell_type": "markdown",
      "metadata": {
        "id": "view-in-github",
        "colab_type": "text"
      },
      "source": [
        "<a href=\"https://colab.research.google.com/github/das-ankur/Amazon-Review-Sentiment-Analysis/blob/main/GANFromScratchV0.ipynb\" target=\"_parent\"><img src=\"https://colab.research.google.com/assets/colab-badge.svg\" alt=\"Open In Colab\"/></a>"
      ]
    },
    {
      "cell_type": "markdown",
      "source": [
        "## Import Libraries"
      ],
      "metadata": {
        "id": "ILeUz9MQgwYb"
      }
    },
    {
      "cell_type": "code",
      "execution_count": null,
      "metadata": {
        "id": "W5A7Syd3f8vL"
      },
      "outputs": [],
      "source": [
        "from tqdm import trange\n",
        "import torch\n",
        "from torch import nn\n",
        "from torch import optim\n",
        "from torch.utils.data import DataLoader\n",
        "from torchvision import datasets, transforms\n",
        "import matplotlib.pyplot as plt"
      ]
    },
    {
      "cell_type": "markdown",
      "source": [
        "## Initialize Hyperparameters"
      ],
      "metadata": {
        "id": "iO9sksy_hH0K"
      }
    },
    {
      "cell_type": "code",
      "source": [
        "latent_dim = 100\n",
        "image_size = 28 * 28\n",
        "batch_size = 32\n",
        "lr = 0.05\n",
        "epochs = 10"
      ],
      "metadata": {
        "id": "XJt7gX1HhMa5"
      },
      "execution_count": null,
      "outputs": []
    },
    {
      "cell_type": "markdown",
      "source": [
        "## DataLoader"
      ],
      "metadata": {
        "id": "CVA5Xw6chNox"
      }
    },
    {
      "cell_type": "code",
      "source": [
        "# Initialize transforms for the dataset\n",
        "transform = transforms.Compose([\n",
        "    transforms.ToTensor(),\n",
        "    transforms.Normalize((0.5), (0.5))\n",
        "])"
      ],
      "metadata": {
        "id": "3fLFt_3ShTgA"
      },
      "execution_count": null,
      "outputs": []
    },
    {
      "cell_type": "code",
      "source": [
        "# Load dataset\n",
        "dataset = datasets.MNIST(root='./data', train=True, download=True, transform=transform)"
      ],
      "metadata": {
        "id": "V_3h23oDiK9r"
      },
      "execution_count": null,
      "outputs": []
    },
    {
      "cell_type": "code",
      "source": [
        "# Initialize dataloader\n",
        "dataloader = DataLoader(dataset, batch_size=batch_size, shuffle=True)"
      ],
      "metadata": {
        "id": "G7T9XyQDi2Ny"
      },
      "execution_count": null,
      "outputs": []
    },
    {
      "cell_type": "markdown",
      "source": [
        "## Build Generator"
      ],
      "metadata": {
        "id": "Vk4zcjYnjcvc"
      }
    },
    {
      "cell_type": "code",
      "source": [
        "# Generator: Generates fake image\n",
        "class Generator(nn.Module):\n",
        "  def __init__(self, latent_dim, img_dim):\n",
        "    super(Generator, self).__init__()\n",
        "    self.model = nn.Sequential(\n",
        "        nn.Linear(latent_dim, 128),\n",
        "        nn.LeakyReLU(0.2),\n",
        "        nn.Linear(128, 256),\n",
        "        nn.LeakyReLU(0.2),\n",
        "        nn.BatchNorm1d(256),\n",
        "        nn.Linear(256, 512),\n",
        "        nn.LeakyReLU(0.2),\n",
        "        nn.BatchNorm1d(512),\n",
        "        nn.Linear(512, img_dim),\n",
        "        nn.Tanh()\n",
        "    )\n",
        "\n",
        "  def forward(self, x):\n",
        "    return self.model(x)"
      ],
      "metadata": {
        "id": "5o0iUXyzjQq5"
      },
      "execution_count": null,
      "outputs": []
    },
    {
      "cell_type": "markdown",
      "source": [
        "## Build Discriminator"
      ],
      "metadata": {
        "id": "NdxNt7FkpbxF"
      }
    },
    {
      "cell_type": "code",
      "source": [
        "# Discriminator: classifies image as real or fake\n",
        "class Discriminator(nn.Module):\n",
        "  def __init__(self, img_dim):\n",
        "    super(Discriminator, self).__init__()\n",
        "    self.model = nn.Sequential(\n",
        "        nn.Linear(img_dim, 256),\n",
        "        nn.LeakyReLU(0.2),\n",
        "        nn.BatchNorm1d(256),\n",
        "        nn.Linear(256, 64),\n",
        "        nn.LeakyReLU(0.2),\n",
        "        nn.BatchNorm1d(64),\n",
        "        nn.Linear(64, 1),\n",
        "        nn.Sigmoid()\n",
        "    )\n",
        "\n",
        "  def forward(self, x):\n",
        "    return self.model(x)"
      ],
      "metadata": {
        "id": "nG2rDTv2llZs"
      },
      "execution_count": null,
      "outputs": []
    },
    {
      "cell_type": "markdown",
      "source": [
        "## Initialize Model, Loss and Optimizer"
      ],
      "metadata": {
        "id": "U3lBnB6er5Vl"
      }
    },
    {
      "cell_type": "code",
      "source": [
        "# Initialize generator\n",
        "generator = Generator(latent_dim, image_size)\n",
        "generator"
      ],
      "metadata": {
        "colab": {
          "base_uri": "https://localhost:8080/"
        },
        "id": "frztEsLAq7bd",
        "outputId": "88f3fc6f-49c4-4333-a510-601aaf4ad26e"
      },
      "execution_count": null,
      "outputs": [
        {
          "output_type": "execute_result",
          "data": {
            "text/plain": [
              "Generator(\n",
              "  (model): Sequential(\n",
              "    (0): Linear(in_features=100, out_features=128, bias=True)\n",
              "    (1): LeakyReLU(negative_slope=0.2)\n",
              "    (2): Linear(in_features=128, out_features=256, bias=True)\n",
              "    (3): LeakyReLU(negative_slope=0.2)\n",
              "    (4): BatchNorm1d(256, eps=1e-05, momentum=0.1, affine=True, track_running_stats=True)\n",
              "    (5): Linear(in_features=256, out_features=512, bias=True)\n",
              "    (6): LeakyReLU(negative_slope=0.2)\n",
              "    (7): BatchNorm1d(512, eps=1e-05, momentum=0.1, affine=True, track_running_stats=True)\n",
              "    (8): Linear(in_features=512, out_features=784, bias=True)\n",
              "    (9): Tanh()\n",
              "  )\n",
              ")"
            ]
          },
          "metadata": {},
          "execution_count": 26
        }
      ]
    },
    {
      "cell_type": "code",
      "source": [
        "# Initialize discriminator\n",
        "discriminator = Discriminator(image_size)\n",
        "discriminator"
      ],
      "metadata": {
        "colab": {
          "base_uri": "https://localhost:8080/"
        },
        "id": "HF7NpFVtsKXJ",
        "outputId": "24e6729d-8a45-4aba-ad59-48f486aa25f8"
      },
      "execution_count": null,
      "outputs": [
        {
          "output_type": "execute_result",
          "data": {
            "text/plain": [
              "Discriminator(\n",
              "  (model): Sequential(\n",
              "    (0): Linear(in_features=784, out_features=256, bias=True)\n",
              "    (1): LeakyReLU(negative_slope=0.2)\n",
              "    (2): BatchNorm1d(256, eps=1e-05, momentum=0.1, affine=True, track_running_stats=True)\n",
              "    (3): Linear(in_features=256, out_features=64, bias=True)\n",
              "    (4): LeakyReLU(negative_slope=0.2)\n",
              "    (5): BatchNorm1d(64, eps=1e-05, momentum=0.1, affine=True, track_running_stats=True)\n",
              "    (6): Linear(in_features=64, out_features=1, bias=True)\n",
              "    (7): Sigmoid()\n",
              "  )\n",
              ")"
            ]
          },
          "metadata": {},
          "execution_count": 27
        }
      ]
    },
    {
      "cell_type": "code",
      "source": [
        "# Initialize loss function\n",
        "loss = nn.BCELoss()"
      ],
      "metadata": {
        "id": "ULVyhbbAsVaA"
      },
      "execution_count": null,
      "outputs": []
    },
    {
      "cell_type": "code",
      "source": [
        "# Initialize optimizers\n",
        "gen_optimizer = optim.Adam(generator.parameters(), lr=lr)\n",
        "disc_optimizer = optim.Adam(discriminator.parameters(), lr=lr)"
      ],
      "metadata": {
        "id": "WFa5exiDsoa-"
      },
      "execution_count": null,
      "outputs": []
    },
    {
      "cell_type": "markdown",
      "source": [
        "## Train Model"
      ],
      "metadata": {
        "id": "KpcukTHQteCm"
      }
    },
    {
      "cell_type": "code",
      "source": [
        "# Train the model\n",
        "for epoch in trange(epochs, desc=f'Epoch: '):\n",
        "  for real_imgs, _ in dataloader:\n",
        "    # Flatten real image\n",
        "    real_imgs = real_imgs.view(-1, image_size)\n",
        "    # Train discriminator\n",
        "    z = torch.randn(batch_size, latent_dim)\n",
        "    fake_imgs = generator(z)\n",
        "    disc_real = discriminator(real_imgs)\n",
        "    disc_fake = discriminator(fake_imgs)\n",
        "    disc_loss = loss(disc_real, torch.ones_like(disc_real)) + loss(disc_fake, torch.zeros_like(disc_fake))\n",
        "    disc_optimizer.zero_grad()\n",
        "    disc_loss.backward()\n",
        "    disc_optimizer.step()\n",
        "    # Train generator\n",
        "    z = torch.randn(batch_size, latent_dim)\n",
        "    fake_imgs = generator(z)\n",
        "    gen_loss = loss(discriminator(fake_imgs), torch.ones_like(disc_real))\n",
        "    gen_optimizer.zero_grad()\n",
        "    gen_loss.backward()\n",
        "    gen_optimizer.step()\n",
        "  print(f\"Epoch [{epoch+1}/{epochs}] | Discriminator Loss: {disc_loss.item():.4f} | Generator Loss: {gen_loss.item():.4f}\")"
      ],
      "metadata": {
        "colab": {
          "base_uri": "https://localhost:8080/"
        },
        "id": "9mmKxMuas_ct",
        "outputId": "65c5f4d9-5f7a-451e-b9fc-2af52c02b953"
      },
      "execution_count": null,
      "outputs": [
        {
          "output_type": "stream",
          "name": "stderr",
          "text": [
            "Epoch:  10%|█         | 1/10 [00:29<04:21, 29.05s/it]"
          ]
        },
        {
          "output_type": "stream",
          "name": "stdout",
          "text": [
            "Epoch [1/10] | Discriminator Loss: 1.3863 | Generator Loss: 0.6931\n"
          ]
        },
        {
          "output_type": "stream",
          "name": "stderr",
          "text": [
            "\rEpoch:  20%|██        | 2/10 [00:57<03:50, 28.77s/it]"
          ]
        },
        {
          "output_type": "stream",
          "name": "stdout",
          "text": [
            "Epoch [2/10] | Discriminator Loss: 1.3863 | Generator Loss: 0.6931\n"
          ]
        },
        {
          "output_type": "stream",
          "name": "stderr",
          "text": [
            "\rEpoch:  30%|███       | 3/10 [01:26<03:21, 28.76s/it]"
          ]
        },
        {
          "output_type": "stream",
          "name": "stdout",
          "text": [
            "Epoch [3/10] | Discriminator Loss: 1.3863 | Generator Loss: 0.6931\n"
          ]
        },
        {
          "output_type": "stream",
          "name": "stderr",
          "text": [
            "\rEpoch:  40%|████      | 4/10 [01:54<02:51, 28.65s/it]"
          ]
        },
        {
          "output_type": "stream",
          "name": "stdout",
          "text": [
            "Epoch [4/10] | Discriminator Loss: 1.3863 | Generator Loss: 0.6931\n"
          ]
        },
        {
          "output_type": "stream",
          "name": "stderr",
          "text": [
            "\rEpoch:  50%|█████     | 5/10 [02:23<02:23, 28.69s/it]"
          ]
        },
        {
          "output_type": "stream",
          "name": "stdout",
          "text": [
            "Epoch [5/10] | Discriminator Loss: 1.3863 | Generator Loss: 0.6931\n"
          ]
        },
        {
          "output_type": "stream",
          "name": "stderr",
          "text": [
            "\rEpoch:  60%|██████    | 6/10 [02:52<01:54, 28.68s/it]"
          ]
        },
        {
          "output_type": "stream",
          "name": "stdout",
          "text": [
            "Epoch [6/10] | Discriminator Loss: 1.3863 | Generator Loss: 0.6931\n"
          ]
        },
        {
          "output_type": "stream",
          "name": "stderr",
          "text": [
            "\rEpoch:  70%|███████   | 7/10 [03:21<01:26, 28.77s/it]"
          ]
        },
        {
          "output_type": "stream",
          "name": "stdout",
          "text": [
            "Epoch [7/10] | Discriminator Loss: 1.3863 | Generator Loss: 0.6932\n"
          ]
        },
        {
          "output_type": "stream",
          "name": "stderr",
          "text": [
            "\rEpoch:  80%|████████  | 8/10 [03:49<00:57, 28.74s/it]"
          ]
        },
        {
          "output_type": "stream",
          "name": "stdout",
          "text": [
            "Epoch [8/10] | Discriminator Loss: 1.3863 | Generator Loss: 0.6931\n"
          ]
        },
        {
          "output_type": "stream",
          "name": "stderr",
          "text": [
            "\rEpoch:  90%|█████████ | 9/10 [04:18<00:28, 28.74s/it]"
          ]
        },
        {
          "output_type": "stream",
          "name": "stdout",
          "text": [
            "Epoch [9/10] | Discriminator Loss: 1.3863 | Generator Loss: 0.6931\n"
          ]
        },
        {
          "output_type": "stream",
          "name": "stderr",
          "text": [
            "Epoch: 100%|██████████| 10/10 [04:47<00:00, 28.75s/it]"
          ]
        },
        {
          "output_type": "stream",
          "name": "stdout",
          "text": [
            "Epoch [10/10] | Discriminator Loss: 1.3863 | Generator Loss: 0.6931\n"
          ]
        },
        {
          "output_type": "stream",
          "name": "stderr",
          "text": [
            "\n"
          ]
        }
      ]
    },
    {
      "cell_type": "markdown",
      "source": [
        "## Generate Image"
      ],
      "metadata": {
        "id": "Tc5OYv_CNu0E"
      }
    },
    {
      "cell_type": "code",
      "source": [
        "# Set the generator to evaluation mode\n",
        "generator.eval()"
      ],
      "metadata": {
        "colab": {
          "base_uri": "https://localhost:8080/"
        },
        "id": "Hott9lVeIhxf",
        "outputId": "70d3b78a-33e1-4be7-f24f-30c8f1cfd9bc"
      },
      "execution_count": null,
      "outputs": [
        {
          "output_type": "execute_result",
          "data": {
            "text/plain": [
              "Generator(\n",
              "  (model): Sequential(\n",
              "    (0): Linear(in_features=100, out_features=128, bias=True)\n",
              "    (1): LeakyReLU(negative_slope=0.2)\n",
              "    (2): Linear(in_features=128, out_features=256, bias=True)\n",
              "    (3): LeakyReLU(negative_slope=0.2)\n",
              "    (4): BatchNorm1d(256, eps=1e-05, momentum=0.1, affine=True, track_running_stats=True)\n",
              "    (5): Linear(in_features=256, out_features=512, bias=True)\n",
              "    (6): LeakyReLU(negative_slope=0.2)\n",
              "    (7): BatchNorm1d(512, eps=1e-05, momentum=0.1, affine=True, track_running_stats=True)\n",
              "    (8): Linear(in_features=512, out_features=784, bias=True)\n",
              "    (9): Tanh()\n",
              "  )\n",
              ")"
            ]
          },
          "metadata": {},
          "execution_count": 34
        }
      ]
    },
    {
      "cell_type": "code",
      "source": [
        "# Generate image\n",
        "z = torch.randn(1, latent_dim)\n",
        "with torch.no_grad():\n",
        "    fake_img = generator(z)\n",
        "fake_img = fake_img.view(28, 28).cpu().numpy()"
      ],
      "metadata": {
        "id": "QQtYp8gjN4FY"
      },
      "execution_count": null,
      "outputs": []
    },
    {
      "cell_type": "code",
      "source": [
        "# Plot the image\n",
        "plt.imshow(fake_img, cmap='gray')\n",
        "plt.title(\"Generated Image\")\n",
        "plt.axis('off')\n",
        "plt.show()"
      ],
      "metadata": {
        "colab": {
          "base_uri": "https://localhost:8080/",
          "height": 428
        },
        "id": "q-siNWzzOejC",
        "outputId": "f4a4a7be-9bc0-4359-9710-5938820803f8"
      },
      "execution_count": null,
      "outputs": [
        {
          "output_type": "display_data",
          "data": {
            "text/plain": [
              "<Figure size 640x480 with 1 Axes>"
            ],
            "image/png": "[encoded data removed]"
          },
          "metadata": {}
        }
      ]
    },
    {
      "cell_type": "code",
      "source": [],
      "metadata": {
        "id": "Wc9rPc_-OncZ"
      },
      "execution_count": null,
      "outputs": []
    }
  ]
}